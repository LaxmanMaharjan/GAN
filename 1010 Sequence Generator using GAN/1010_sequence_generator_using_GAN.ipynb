{
  "nbformat": 4,
  "nbformat_minor": 0,
  "metadata": {
    "accelerator": "GPU",
    "colab": {
      "name": "1010 pattern GAN.ipynb",
      "provenance": [],
      "collapsed_sections": []
    },
    "kernelspec": {
      "display_name": "Python 3",
      "name": "python3"
    },
    "widgets": {
      "application/vnd.jupyter.widget-state+json": {
        "1ae98ce6b85a4acc9cd60f6725c55a61": {
          "model_module": "@jupyter-widgets/controls",
          "model_name": "HBoxModel",
          "state": {
            "_view_name": "HBoxView",
            "_dom_classes": [],
            "_model_name": "HBoxModel",
            "_view_module": "@jupyter-widgets/controls",
            "_model_module_version": "1.5.0",
            "_view_count": null,
            "_view_module_version": "1.5.0",
            "box_style": "",
            "layout": "IPY_MODEL_d05d60ec23274d2dbff52b818de5bf67",
            "_model_module": "@jupyter-widgets/controls",
            "children": [
              "IPY_MODEL_f9ca16e1a6514769a3e68bd5cf7b4d7b",
              "IPY_MODEL_368154c352724ff0907c0f02c8f329d9"
            ]
          }
        },
        "d05d60ec23274d2dbff52b818de5bf67": {
          "model_module": "@jupyter-widgets/base",
          "model_name": "LayoutModel",
          "state": {
            "_view_name": "LayoutView",
            "grid_template_rows": null,
            "right": null,
            "justify_content": null,
            "_view_module": "@jupyter-widgets/base",
            "overflow": null,
            "_model_module_version": "1.2.0",
            "_view_count": null,
            "flex_flow": null,
            "width": null,
            "min_width": null,
            "border": null,
            "align_items": null,
            "bottom": null,
            "_model_module": "@jupyter-widgets/base",
            "top": null,
            "grid_column": null,
            "overflow_y": null,
            "overflow_x": null,
            "grid_auto_flow": null,
            "grid_area": null,
            "grid_template_columns": null,
            "flex": null,
            "_model_name": "LayoutModel",
            "justify_items": null,
            "grid_row": null,
            "max_height": null,
            "align_content": null,
            "visibility": null,
            "align_self": null,
            "height": null,
            "min_height": null,
            "padding": null,
            "grid_auto_rows": null,
            "grid_gap": null,
            "max_width": null,
            "order": null,
            "_view_module_version": "1.2.0",
            "grid_template_areas": null,
            "object_position": null,
            "object_fit": null,
            "grid_auto_columns": null,
            "margin": null,
            "display": null,
            "left": null
          }
        },
        "f9ca16e1a6514769a3e68bd5cf7b4d7b": {
          "model_module": "@jupyter-widgets/controls",
          "model_name": "FloatProgressModel",
          "state": {
            "_view_name": "ProgressView",
            "style": "IPY_MODEL_e21e9a01a4154fc7b9c855393dbfd369",
            "_dom_classes": [],
            "description": "100%",
            "_model_name": "FloatProgressModel",
            "bar_style": "success",
            "max": 10000,
            "_view_module": "@jupyter-widgets/controls",
            "_model_module_version": "1.5.0",
            "value": 10000,
            "_view_count": null,
            "_view_module_version": "1.5.0",
            "orientation": "horizontal",
            "min": 0,
            "description_tooltip": null,
            "_model_module": "@jupyter-widgets/controls",
            "layout": "IPY_MODEL_ec705f3f514846009c637b50ea21c870"
          }
        },
        "368154c352724ff0907c0f02c8f329d9": {
          "model_module": "@jupyter-widgets/controls",
          "model_name": "HTMLModel",
          "state": {
            "_view_name": "HTMLView",
            "style": "IPY_MODEL_cccb8431ef284b418747ac34a0181974",
            "_dom_classes": [],
            "description": "",
            "_model_name": "HTMLModel",
            "placeholder": "​",
            "_view_module": "@jupyter-widgets/controls",
            "_model_module_version": "1.5.0",
            "value": " 10000/10000 [00:47&lt;00:00, 211.86it/s]",
            "_view_count": null,
            "_view_module_version": "1.5.0",
            "description_tooltip": null,
            "_model_module": "@jupyter-widgets/controls",
            "layout": "IPY_MODEL_ca9acb5ed5954870a243745d2cd7f107"
          }
        },
        "e21e9a01a4154fc7b9c855393dbfd369": {
          "model_module": "@jupyter-widgets/controls",
          "model_name": "ProgressStyleModel",
          "state": {
            "_view_name": "StyleView",
            "_model_name": "ProgressStyleModel",
            "description_width": "initial",
            "_view_module": "@jupyter-widgets/base",
            "_model_module_version": "1.5.0",
            "_view_count": null,
            "_view_module_version": "1.2.0",
            "bar_color": null,
            "_model_module": "@jupyter-widgets/controls"
          }
        },
        "ec705f3f514846009c637b50ea21c870": {
          "model_module": "@jupyter-widgets/base",
          "model_name": "LayoutModel",
          "state": {
            "_view_name": "LayoutView",
            "grid_template_rows": null,
            "right": null,
            "justify_content": null,
            "_view_module": "@jupyter-widgets/base",
            "overflow": null,
            "_model_module_version": "1.2.0",
            "_view_count": null,
            "flex_flow": null,
            "width": null,
            "min_width": null,
            "border": null,
            "align_items": null,
            "bottom": null,
            "_model_module": "@jupyter-widgets/base",
            "top": null,
            "grid_column": null,
            "overflow_y": null,
            "overflow_x": null,
            "grid_auto_flow": null,
            "grid_area": null,
            "grid_template_columns": null,
            "flex": null,
            "_model_name": "LayoutModel",
            "justify_items": null,
            "grid_row": null,
            "max_height": null,
            "align_content": null,
            "visibility": null,
            "align_self": null,
            "height": null,
            "min_height": null,
            "padding": null,
            "grid_auto_rows": null,
            "grid_gap": null,
            "max_width": null,
            "order": null,
            "_view_module_version": "1.2.0",
            "grid_template_areas": null,
            "object_position": null,
            "object_fit": null,
            "grid_auto_columns": null,
            "margin": null,
            "display": null,
            "left": null
          }
        },
        "cccb8431ef284b418747ac34a0181974": {
          "model_module": "@jupyter-widgets/controls",
          "model_name": "DescriptionStyleModel",
          "state": {
            "_view_name": "StyleView",
            "_model_name": "DescriptionStyleModel",
            "description_width": "",
            "_view_module": "@jupyter-widgets/base",
            "_model_module_version": "1.5.0",
            "_view_count": null,
            "_view_module_version": "1.2.0",
            "_model_module": "@jupyter-widgets/controls"
          }
        },
        "ca9acb5ed5954870a243745d2cd7f107": {
          "model_module": "@jupyter-widgets/base",
          "model_name": "LayoutModel",
          "state": {
            "_view_name": "LayoutView",
            "grid_template_rows": null,
            "right": null,
            "justify_content": null,
            "_view_module": "@jupyter-widgets/base",
            "overflow": null,
            "_model_module_version": "1.2.0",
            "_view_count": null,
            "flex_flow": null,
            "width": null,
            "min_width": null,
            "border": null,
            "align_items": null,
            "bottom": null,
            "_model_module": "@jupyter-widgets/base",
            "top": null,
            "grid_column": null,
            "overflow_y": null,
            "overflow_x": null,
            "grid_auto_flow": null,
            "grid_area": null,
            "grid_template_columns": null,
            "flex": null,
            "_model_name": "LayoutModel",
            "justify_items": null,
            "grid_row": null,
            "max_height": null,
            "align_content": null,
            "visibility": null,
            "align_self": null,
            "height": null,
            "min_height": null,
            "padding": null,
            "grid_auto_rows": null,
            "grid_gap": null,
            "max_width": null,
            "order": null,
            "_view_module_version": "1.2.0",
            "grid_template_areas": null,
            "object_position": null,
            "object_fit": null,
            "grid_auto_columns": null,
            "margin": null,
            "display": null,
            "left": null
          }
        }
      }
    }
  },
  "cells": [
    {
      "cell_type": "markdown",
      "metadata": {
        "id": "s_c31VOB98-o"
      },
      "source": [
        "# **Importing Necessary Packages**"
      ]
    },
    {
      "cell_type": "code",
      "metadata": {
        "colab": {
          "base_uri": "https://localhost:8080/"
        },
        "id": "VjDcA2dCRR2q",
        "outputId": "11c6eb28-f52a-40d5-e5c4-7d15917cf755"
      },
      "source": [
        "import torch\n",
        "import torch.nn as nn\n",
        "\n",
        "import pandas as pd\n",
        "import matplotlib.pyplot as plt\n",
        "\n",
        "import numpy as np\n",
        "import random\n",
        "\n",
        "from tqdm.auto import tqdm\n",
        "\n",
        "print(\"Pytorch Version:\",torch.__version__)\n",
        "print(\"GPU Avaiable:\",torch.cuda.is_available())\n",
        "\n",
        "device = 'cuda' if torch.cuda.is_available() == True else 'cpu'\n",
        "print(\"Setting device to:\",device)\n"
      ],
      "execution_count": null,
      "outputs": [
        {
          "output_type": "stream",
          "text": [
            "Pytorch Version: 1.8.1+cu101\n",
            "GPU Avaiable: True\n",
            "Setting device to: cuda\n"
          ],
          "name": "stdout"
        }
      ]
    },
    {
      "cell_type": "markdown",
      "metadata": {
        "id": "arjdlpno-eMb"
      },
      "source": [
        "# **Discriminator Network**"
      ]
    },
    {
      "cell_type": "code",
      "metadata": {
        "id": "EfMcYRgueQ4H"
      },
      "source": [
        "class Discriminator(nn.Module):\n",
        "  def __init__(self):\n",
        "    #initializing parent pytorch class by invoking its __init__() funtion\n",
        "    super().__init__()\n",
        "    #defining neural network layer\n",
        "    self.model = nn.Sequential(\n",
        "        nn.Linear(4,3),\n",
        "        nn.Sigmoid(),\n",
        "        nn.Linear(3,1),\n",
        "        nn.Sigmoid()\n",
        "    )\n",
        "    #create loss function\n",
        "    self.loss_function = nn.MSELoss()\n",
        "\n",
        "    #create optimizer, using stochastic gradient descent\n",
        "    self.optimiser = torch.optim.SGD(self.parameters(), lr=0.01)\n",
        "\n",
        "    #counter and accumulator for progress\n",
        "    self.counter = 0\n",
        "    self.progress = []\n",
        "    \n",
        "  \n",
        "  def forward(self, inputs):\n",
        "    #simply run the model\n",
        "    return self.model(inputs)\n",
        "\n",
        "  def train(self, inputs, targets):\n",
        "    #calculate the output of the network \n",
        "    outputs = self.forward(inputs)\n",
        "    \n",
        "    #calculate the loss \n",
        "    loss = self.loss_function(outputs, targets)\n",
        "\n",
        "    #increase the counter of training and accumulate the error in every 10 count\n",
        "    self.counter += 1\n",
        "    if (self.counter % 10 == 0):\n",
        "      self.progress.append(loss.item())\n",
        "\n",
        "    # zero gradients, perform a backward pass, update weights\n",
        "    self.optimiser.zero_grad()\n",
        "    loss.backward()\n",
        "    self.optimiser.step()\n",
        "    \n",
        "\n",
        "    # Finally, we can add a function plot_progress() to draw a chart of the losses accumulated during training\n",
        "  def plot_progress(self):\n",
        "\n",
        "    plt.figure(figsize=(16,8))\n",
        "    plt.plot(self.progress,label=\"D-Loss\")\n",
        "    plt.xlabel(\"Iterations\")\n",
        "    plt.ylabel(\"Loss\")\n",
        "    plt.legend()\n",
        "    plt.grid(True)\n",
        "    plt.title('Loss Vs Iterations');\n",
        "    plt.show()"
      ],
      "execution_count": null,
      "outputs": []
    },
    {
      "cell_type": "markdown",
      "metadata": {
        "id": "Qbt1x778-zJl"
      },
      "source": [
        "# **Generator Network**"
      ]
    },
    {
      "cell_type": "code",
      "metadata": {
        "id": "3n5mEqG2PBMt"
      },
      "source": [
        "#Defining Generator Neural Network\n",
        "class Generator(nn.Module):\n",
        " \n",
        "  def __init__(self):\n",
        "    super().__init__()\n",
        "    # defining neural network layer\n",
        "    self.model =  nn.Sequential(\n",
        "        nn.Linear(1,3),\n",
        "        nn.Sigmoid(),\n",
        "        nn.Linear(3,4),\n",
        "        nn.Sigmoid()\n",
        "    )\n",
        "\n",
        "    #create optimizer, using stochastic gradient descent\n",
        "    self.optimiser = torch.optim.Adam(self.parameters(), lr=0.01)\n",
        "\n",
        "    #counter and accumulator for progress\n",
        "    self.counter = 0\n",
        "    self.progress = []\n",
        "\n",
        "  def forward(self, inputs):\n",
        "    #simply run the model\n",
        "    return self.model(inputs)\n",
        "  \n",
        "  def train(self, D, inputs, targets):\n",
        "    # calculate the output of the network\n",
        "    g_output = self.forward(inputs)\n",
        "\n",
        "    # pass onto Discriminator\n",
        "    d_output = D.forward(g_output)\n",
        "\n",
        "    # calculate error\n",
        "    loss = D.loss_function(d_output, targets)\n",
        "    # increase counter and accumulate error every 10\n",
        "    self.counter += 1\n",
        "    if (self.counter % 5 == 0):\n",
        "      self.progress.append(loss.item())\n",
        "    \n",
        "\n",
        "    # zero gradients, perform a backward pass, update weights\n",
        "    self.optimiser.zero_grad()\n",
        "    loss.backward()\n",
        "    self.optimiser.step()\n",
        "    \n"
      ],
      "execution_count": null,
      "outputs": []
    },
    {
      "cell_type": "markdown",
      "metadata": {
        "id": "UvBs_Ggi-66q"
      },
      "source": [
        "# **GAN**"
      ]
    },
    {
      "cell_type": "code",
      "metadata": {
        "id": "2oWu_Gi5yBV5"
      },
      "source": [
        "class GAN:\n",
        "  def __init__(self):\n",
        "    self.D = Discriminator().to(device)\n",
        "    self.G = Generator().to(device)\n",
        "    self.image_list = []\n",
        "  \n",
        "  def generate_real(self):\n",
        "    real_data = torch.FloatTensor([\n",
        "                                   random.uniform(0.8,1),\n",
        "                                   random.uniform(0,0.2),\n",
        "                                   random.uniform(0.8,1),\n",
        "                                   random.uniform(0,0.2)\n",
        "    ]).to(device)\n",
        "    return real_data\n",
        "\n",
        "  # creating a function to generate random noise\n",
        "  def generate_random(self,size):\n",
        "    random_data = torch.randn(size).to(device)\n",
        "    return random_data\n",
        "\n",
        "  def train(self):\n",
        "    # Training Generator and Discriminator\n",
        "    for i in tqdm(range(10000)):\n",
        "      # Training Discriminator in True\n",
        "      self.D.train(self.generate_real(), torch.FloatTensor([1.0]).to(device))\n",
        "\n",
        "      #Training Discriminator in False\n",
        "      #use detach() so gradients in G are not calculated\n",
        "      self.D.train(self.G.forward(self.generate_random(1).detach()), torch.FloatTensor([0.0]).to(device))\n",
        "      \n",
        "      # Training Generator\n",
        "      self.G.train(self.D,self.generate_random(1), torch.FloatTensor([1.0]).to(device))\n",
        "\n",
        "      #Storing the Generator ouput loop for visualizing in image_list in every 1000 training cycles\n",
        "      if (i%100 == 0):\n",
        "        output = self.G.forward(self.generate_random(1))\n",
        "        self.image_list.append(output.cpu().detach().numpy())\n",
        "\n",
        "  def visualize_losses(self):\n",
        "    plt.figure(figsize=(16,8))\n",
        "    plt.plot(self.D.progress,label=\"D-Loss\")\n",
        "    plt.plot(self.G.progress,label=\"G-loss\")\n",
        "    plt.xlabel(\"iterations\")\n",
        "    plt.ylabel(\"Loss\")\n",
        "    plt.legend()\n",
        "    plt.grid(True)\n",
        "    plt.title('Loss Vs Iterations');\n",
        "    plt.show()\n",
        "  \n",
        "  def visualize_results(self):\n",
        "    df = pd.DataFrame(np.array(self.image_list),columns=[\"1st Bit\",\"2nd Bit\",\"3rd Bit\", \"4th Bit\"])\n",
        "    plt.figure(figsize=(16,8))\n",
        "    plt.plot(df.iloc[:,0],label = \"1st Bit\")\n",
        "    plt.plot(df.iloc[:,1],label = \"2nd Bit\")\n",
        "    plt.plot(df.iloc[:,2],label = \"3rd Bit\")\n",
        "    plt.plot(df.iloc[:,3],label = \"4th Bit\")\n",
        "    plt.xlabel(\"iterations\")\n",
        "    plt.ylabel(\"Loss\")\n",
        "    plt.legend()\n",
        "    plt.grid(True)\n",
        "    plt.title('Generator Process Over Iterations');\n",
        "    plt.show()\n",
        "\n",
        "  def show_results(self):\n",
        "    df = pd.DataFrame(np.array(self.image_list),columns=[\"1st Bit\",\"2nd Bit\",\"3rd Bit\", \"4th Bit\"])\n",
        "    print(\"Results of Generator during Training:\")\n",
        "    print(df)\n",
        "    \n",
        "  def generate(self,random_value):\n",
        "    return self.G.forward(random_value)"
      ],
      "execution_count": null,
      "outputs": []
    },
    {
      "cell_type": "markdown",
      "metadata": {
        "id": "ie944Nfr_IwY"
      },
      "source": [
        "# **Training Model**"
      ]
    },
    {
      "cell_type": "code",
      "metadata": {
        "colab": {
          "base_uri": "https://localhost:8080/",
          "height": 66,
          "referenced_widgets": [
            "1ae98ce6b85a4acc9cd60f6725c55a61",
            "d05d60ec23274d2dbff52b818de5bf67",
            "f9ca16e1a6514769a3e68bd5cf7b4d7b",
            "368154c352724ff0907c0f02c8f329d9",
            "e21e9a01a4154fc7b9c855393dbfd369",
            "ec705f3f514846009c637b50ea21c870",
            "cccb8431ef284b418747ac34a0181974",
            "ca9acb5ed5954870a243745d2cd7f107"
          ]
        },
        "id": "DlGvK0jn2DuG",
        "outputId": "deb3bbfb-14b4-4e74-a0c5-f0d297d6d008"
      },
      "source": [
        "model = GAN()\n",
        "model.train()\n"
      ],
      "execution_count": null,
      "outputs": [
        {
          "output_type": "display_data",
          "data": {
            "application/vnd.jupyter.widget-view+json": {
              "model_id": "1ae98ce6b85a4acc9cd60f6725c55a61",
              "version_minor": 0,
              "version_major": 2
            },
            "text/plain": [
              "HBox(children=(FloatProgress(value=0.0, max=10000.0), HTML(value='')))"
            ]
          },
          "metadata": {
            "tags": []
          }
        },
        {
          "output_type": "stream",
          "text": [
            "\n"
          ],
          "name": "stdout"
        }
      ]
    },
    {
      "cell_type": "markdown",
      "metadata": {
        "id": "yltyTdAt_OKv"
      },
      "source": [
        "# **Visualization of Results and Losses**"
      ]
    },
    {
      "cell_type": "code",
      "metadata": {
        "colab": {
          "base_uri": "https://localhost:8080/",
          "height": 513
        },
        "id": "gMC4tHC83PII",
        "outputId": "7b916d97-8107-4f14-b426-9fd460234e06"
      },
      "source": [
        "model.visualize_losses()\n"
      ],
      "execution_count": null,
      "outputs": [
        {
          "output_type": "display_data",
          "data": {
            "image/png": "[encoded data removed]",
            "text/plain": [
              "<Figure size 1152x576 with 1 Axes>"
            ]
          },
          "metadata": {
            "tags": [],
            "needs_background": "light"
          }
        }
      ]
    },
    {
      "cell_type": "code",
      "metadata": {
        "colab": {
          "base_uri": "https://localhost:8080/"
        },
        "id": "LuECJLw_zmwC",
        "outputId": "8acc8de0-2745-44b6-a759-8945f430c408"
      },
      "source": [
        "model.show_results()"
      ],
      "execution_count": null,
      "outputs": [
        {
          "output_type": "stream",
          "text": [
            "Results of Generator during Training:\n",
            "     1st Bit   2nd Bit   3rd Bit   4th Bit\n",
            "0   0.702231  0.466267  0.485222  0.547122\n",
            "1   0.116165  0.918032  0.905601  0.079290\n",
            "2   0.034347  0.970413  0.974493  0.025457\n",
            "3   0.019901  0.980594  0.992456  0.016338\n",
            "4   0.015211  0.983019  0.996697  0.012503\n",
            "..       ...       ...       ...       ...\n",
            "95  0.999894  0.000065  0.999398  0.001079\n",
            "96  0.999899  0.000061  0.999447  0.001261\n",
            "97  0.999899  0.000061  0.999475  0.001580\n",
            "98  0.999904  0.000057  0.999513  0.001924\n",
            "99  0.999907  0.000055  0.999541  0.002340\n",
            "\n",
            "[100 rows x 4 columns]\n"
          ],
          "name": "stdout"
        }
      ]
    },
    {
      "cell_type": "markdown",
      "metadata": {
        "id": "6k1ziQeLA2aJ"
      },
      "source": [
        "# **Generating Output From Model**"
      ]
    },
    {
      "cell_type": "code",
      "metadata": {
        "id": "4hhvCVFVA14R",
        "colab": {
          "base_uri": "https://localhost:8080/"
        },
        "outputId": "9d1c3e08-3196-4e60-b984-3996d07df199"
      },
      "source": [
        "random_value = model.generate_random(1)\n",
        "output = model.generate(random_value).detach().cpu().numpy()\n",
        "print([ \"{:0.2f}\".format(x) for x in output ])\n",
        "print(\"Therefore, it generate 1010 pattern\")"
      ],
      "execution_count": null,
      "outputs": [
        {
          "output_type": "stream",
          "text": [
            "['1.00', '0.00', '1.00', '0.00']\n",
            "Therefore, it generate 1010 pattern\n"
          ],
          "name": "stdout"
        }
      ]
    },
    {
      "cell_type": "code",
      "metadata": {
        "id": "ZS0-FcTzGKBy"
      },
      "source": [
        ""
      ],
      "execution_count": null,
      "outputs": []
    }
  ]
}